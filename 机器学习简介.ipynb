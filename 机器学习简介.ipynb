{
 "cells": [
  {
   "cell_type": "markdown",
   "metadata": {},
   "source": [
    "### Import dependencies"
   ]
  },
  {
   "cell_type": "code",
   "execution_count": 2,
   "metadata": {},
   "outputs": [],
   "source": [
    "import tensorflow as tf\n",
    "tf.logging.set_verbosity(tf.logging.ERROR)\n",
    "import numpy as np"
   ]
  },
  {
   "cell_type": "markdown",
   "metadata": {},
   "source": [
    "### Set up training data"
   ]
  },
  {
   "cell_type": "code",
   "execution_count": 3,
   "metadata": {},
   "outputs": [],
   "source": [
    "celsius_q = np.array([-40,-10,0,8,15,22,38],dtype=float)\n",
    "fahrenheit_a = np.array([-40,14,32,46,59,72,100],dtype=float)"
   ]
  },
  {
   "cell_type": "code",
   "execution_count": 4,
   "metadata": {},
   "outputs": [
    {
     "name": "stdout",
     "output_type": "stream",
     "text": [
      "-40.0 degree Celsius = -40.0 degree Fahrenheit\n",
      "-10.0 degree Celsius = 14.0 degree Fahrenheit\n",
      "0.0 degree Celsius = 32.0 degree Fahrenheit\n",
      "8.0 degree Celsius = 46.0 degree Fahrenheit\n",
      "15.0 degree Celsius = 59.0 degree Fahrenheit\n",
      "22.0 degree Celsius = 72.0 degree Fahrenheit\n",
      "38.0 degree Celsius = 100.0 degree Fahrenheit\n"
     ]
    }
   ],
   "source": [
    "for i, c in enumerate(celsius_q):\n",
    "    print(\"{} degree Celsius = {} degree Fahrenheit\".format(c,fahrenheit_a[i]))"
   ]
  },
  {
   "cell_type": "markdown",
   "metadata": {},
   "source": [
    "### Creat the model"
   ]
  },
  {
   "cell_type": "markdown",
   "metadata": {},
   "source": [
    "#### Build a layer"
   ]
  },
  {
   "cell_type": "code",
   "execution_count": 5,
   "metadata": {
    "scrolled": true
   },
   "outputs": [],
   "source": [
    "l0 = tf.keras.layers.Dense(units=1,input_shape=[1])\n",
    "# Dense：由这里声明的单个密集层组成\n",
    "# input_shape=[1]:  输入数据的shape\n",
    "# units=1: 指定这个层级有多少个变量"
   ]
  },
  {
   "cell_type": "code",
   "execution_count": 6,
   "metadata": {},
   "outputs": [],
   "source": [
    "# 创建一个包含一个l0层级的模型\n",
    "model = tf.keras.Sequential([l0])\n",
    "# 也可以像下面这样，直接在顺序语句中内嵌层级声明\n",
    "model = tf.keras.Sequential([tf.keras.layers.Dense(units=1,input_shape=[1])])"
   ]
  },
  {
   "cell_type": "markdown",
   "metadata": {},
   "source": [
    "### Compile the model,with loss and optimizer functions"
   ]
  },
  {
   "cell_type": "code",
   "execution_count": 7,
   "metadata": {},
   "outputs": [],
   "source": [
    "# 编译模型的损失函数(均方误差)和优化函数(Adma)\n",
    "model.compile(loss='mean_squared_error',optimizer=tf.keras.optimizers.Adam(0.1))\n",
    "# 这里的0.1为学习率，可调，一般范围为0.1~0.001"
   ]
  },
  {
   "cell_type": "markdown",
   "metadata": {},
   "source": [
    "### Train the model"
   ]
  },
  {
   "cell_type": "code",
   "execution_count": 8,
   "metadata": {},
   "outputs": [
    {
     "name": "stdout",
     "output_type": "stream",
     "text": [
      "Finished training the model\n"
     ]
    }
   ],
   "source": [
    "hiatory = model.fit(celsius_q,fahrenheit_a,epochs=500,verbose=False)\n",
    "# 调用fit方法训练模型；传入数据；epoch称为周期，指对我们的样本迭代多少次；\n",
    "print(\"Finished training the model\")"
   ]
  },
  {
   "cell_type": "markdown",
   "metadata": {},
   "source": [
    "### Display training statistics"
   ]
  },
  {
   "cell_type": "code",
   "execution_count": 10,
   "metadata": {},
   "outputs": [
    {
     "data": {
      "text/plain": [
       "[<matplotlib.lines.Line2D at 0x211040467b8>]"
      ]
     },
     "execution_count": 10,
     "metadata": {},
     "output_type": "execute_result"
    },
    {
     "data": {
      "image/png": "[encoded data removed]",
      "text/plain": [
       "<Figure size 432x288 with 1 Axes>"
      ]
     },
     "metadata": {},
     "output_type": "display_data"
    }
   ],
   "source": [
    "import matplotlib.pyplot as plt\n",
    "plt.xlabel(\"Epoch Numbers\")\n",
    "plt.ylabel(\"Loss Nagnitude\")\n",
    "plt.plot(hiatory.history['loss'])"
   ]
  },
  {
   "cell_type": "markdown",
   "metadata": {},
   "source": [
    "### Use the model to predict values"
   ]
  },
  {
   "cell_type": "code",
   "execution_count": 11,
   "metadata": {},
   "outputs": [
    {
     "name": "stdout",
     "output_type": "stream",
     "text": [
      "[[211.32164]]\n"
     ]
    }
   ],
   "source": [
    "print(model.predict([100.0]))"
   ]
  },
  {
   "cell_type": "markdown",
   "metadata": {},
   "source": [
    "### Looking at the layer weights"
   ]
  },
  {
   "cell_type": "code",
   "execution_count": 12,
   "metadata": {},
   "outputs": [
    {
     "name": "stdout",
     "output_type": "stream",
     "text": [
      "These are the layer variables:[array([[0.6369339]], dtype=float32), array([0.], dtype=float32)]\n"
     ]
    }
   ],
   "source": [
    "# 查看密集层的权重\n",
    "print(\"These are the layer variables:{}\".format(l0.get_weights()))"
   ]
  },
  {
   "cell_type": "markdown",
   "metadata": {},
   "source": [
    "### A little experiment（尝试三个密集层）"
   ]
  },
  {
   "cell_type": "code",
   "execution_count": 17,
   "metadata": {},
   "outputs": [
    {
     "name": "stdout",
     "output_type": "stream",
     "text": [
      "Finished training the model\n",
      "[[211.74742]]\n",
      "Model predicts that 100 degree Celsius is : [[211.74742]] degree Fahrenheit\n",
      "These are the 10 variables:[array([[ 0.06837003, -0.22703896, -0.24282087,  0.8163076 ]],\n",
      "      dtype=float32), array([-2.806716 ,  2.2954237, -3.3367841,  3.47819  ], dtype=float32)]\n",
      "These are the 11 variables:[array([[ 0.5231544 , -1.1123953 ,  0.59429264, -0.21537642],\n",
      "       [-0.6976013 ,  0.4008302 ,  0.48398033, -0.17010051],\n",
      "       [ 1.1972291 , -0.28453034,  0.28607443, -0.76825523],\n",
      "       [-0.65101266,  1.4254705 ,  0.12602344, -0.45794746]],\n",
      "      dtype=float32), array([-3.2313702,  3.4970148, -1.9945815, -1.3138908], dtype=float32)]\n",
      "These are the 12 variables:[array([[-1.156428  ],\n",
      "       [ 0.971588  ],\n",
      "       [-0.38722622],\n",
      "       [-0.13753551]], dtype=float32), array([3.1570802], dtype=float32)]\n"
     ]
    }
   ],
   "source": [
    "# 前两个层级分别有4个单元，最后一个有一个单元\n",
    "l0 = tf.keras.layers.Dense(units=4,input_shape=[1])\n",
    "l1 = tf.keras.layers.Dense(units=4)\n",
    "l2 = tf.keras.layers.Dense(units=1)\n",
    "model = tf.keras.Sequential([l0,l1,l2])\n",
    "model.compile(loss='mean_squared_error',optimizer=tf.keras.optimizers.Adam(0.1))\n",
    "model.fit(celsius_q,fahrenheit_a,epochs=500,verbose=False)\n",
    "print(\"Finished training the model\")\n",
    "print(model.predict([100.0]))\n",
    "print(\"Model predicts that 100 degree Celsius is : {} degree Fahrenheit\".format(model.predict([100.0])))\n",
    "print(\"These are the 10 variables:{}\".format(l0.get_weights()))\n",
    "print(\"These are the 11 variables:{}\".format(l1.get_weights()))\n",
    "print(\"These are the 12 variables:{}\".format(l2.get_weights()))"
   ]
  },
  {
   "cell_type": "code",
   "execution_count": null,
   "metadata": {},
   "outputs": [],
   "source": []
  },
  {
   "cell_type": "code",
   "execution_count": null,
   "metadata": {},
   "outputs": [],
   "source": []
  },
  {
   "cell_type": "code",
   "execution_count": null,
   "metadata": {},
   "outputs": [],
   "source": []
  },
  {
   "cell_type": "code",
   "execution_count": null,
   "metadata": {},
   "outputs": [],
   "source": []
  }
 ],
 "metadata": {
  "kernelspec": {
   "display_name": "Python 3",
   "language": "python",
   "name": "python3"
  },
  "language_info": {
   "codemirror_mode": {
    "name": "ipython",
    "version": 3
   },
   "file_extension": ".py",
   "mimetype": "text/x-python",
   "name": "python",
   "nbconvert_exporter": "python",
   "pygments_lexer": "ipython3",
   "version": "3.6.5"
  }
 },
 "nbformat": 4,
 "nbformat_minor": 2
}
